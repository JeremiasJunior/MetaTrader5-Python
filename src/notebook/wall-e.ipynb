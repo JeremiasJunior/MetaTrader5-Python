{
 "cells": [
  {
   "cell_type": "code",
   "execution_count": 43,
   "metadata": {},
   "outputs": [],
   "source": [
    "import MetaTrader5\n",
    "import pandas as pd \n",
    "\n"
   ]
  },
  {
   "cell_type": "code",
   "execution_count": 4,
   "metadata": {},
   "outputs": [
    {
     "name": "stdout",
     "output_type": "stream",
     "text": [
      "AccountInfo(login=10041983, trade_mode=0, leverage=100, limit_orders=0, margin_so_mode=0, trade_allowed=True, trade_expert=True, margin_mode=0, currency_digits=2, fifo_close=False, balance=50000.0, credit=0.0, profit=0.0, equity=50000.0, margin=0.0, margin_free=50000.0, margin_level=0.0, margin_so_call=100.0, margin_so_so=80.0, margin_initial=0.0, margin_maintenance=0.0, assets=0.0, liabilities=0.0, commission_blocked=0.0, name='JEREMIAS OLIVEIRA DA JUNIOR', server='B2Broker-MetaTrader5', currency='USD', company='Prime Brokerage Services Limited')\n"
     ]
    }
   ],
   "source": [
    "_login = 10041983\n",
    "_password = 'Dy41KitG'\n",
    "_server = 'B2Broker-MetaTrader5'\n",
    "\n",
    "\n",
    "try:\n",
    "    MetaTrader5.initialize(login = _login, password = _password, server = _server)\n",
    "    print(MetaTrader5.account_info())\n",
    "except:\n",
    "    print(MetaTrader5.version())\n",
    "    MetaTrader5.shutdown()\n",
    "\n"
   ]
  },
  {
   "cell_type": "code",
   "execution_count": 23,
   "metadata": {},
   "outputs": [
    {
     "name": "stdout",
     "output_type": "stream",
     "text": [
      "{'time': 1664431208, 'bid': 19433.488, 'ask': 19437.412, 'last': 0.0, 'volume': 0, 'time_msc': 1664431208838, 'flags': 6, 'volume_real': 0.0}\n"
     ]
    }
   ],
   "source": [
    "print(MetaTrader5.symbol_info_tick('BTCUSD')._asdict())"
   ]
  },
  {
   "cell_type": "code",
   "execution_count": 22,
   "metadata": {},
   "outputs": [
    {
     "name": "stdout",
     "output_type": "stream",
     "text": [
      "{'custom': False, 'chart_mode': 0, 'select': True, 'visible': True, 'session_deals': 0, 'session_buy_orders': 0, 'session_sell_orders': 0, 'volume': 0, 'volumehigh': 0, 'volumelow': 0, 'time': 1664431080, 'digits': 3, 'spread': 3924, 'spread_float': True, 'ticks_bookdepth': 1, 'trade_calc_mode': 5, 'trade_mode': 4, 'start_time': 0, 'expiration_time': 0, 'trade_stops_level': 0, 'trade_freeze_level': 0, 'trade_exemode': 2, 'swap_mode': 1, 'swap_rollover3days': 5, 'margin_hedged_use_leg': False, 'expiration_mode': 15, 'filling_mode': 2, 'order_mode': 127, 'order_gtc_mode': 0, 'option_mode': 0, 'option_right': 0, 'bid': 19427.888, 'bidhigh': 19610.688, 'bidlow': 19268.854, 'ask': 19431.812, 'askhigh': 19615.013, 'asklow': 19275.946, 'last': 0.0, 'lasthigh': 0.0, 'lastlow': 0.0, 'volume_real': 0.0, 'volumehigh_real': 0.0, 'volumelow_real': 0.0, 'option_strike': 0.0, 'point': 0.001, 'trade_tick_value': 0.001, 'trade_tick_value_profit': 0.001, 'trade_tick_value_loss': 0.001, 'trade_tick_size': 0.001, 'trade_contract_size': 1.0, 'trade_accrued_interest': 0.0, 'trade_face_value': 0.0, 'trade_liquidity_rate': 0.0, 'volume_min': 0.01, 'volume_max': 1000.0, 'volume_step': 0.01, 'volume_limit': 0.0, 'swap_long': -10631.0, 'swap_short': -10631.0, 'margin_initial': 0.0, 'margin_maintenance': 0.0, 'session_volume': 0.0, 'session_turnover': 0.0, 'session_interest': 0.0, 'session_buy_orders_volume': 0.0, 'session_sell_orders_volume': 0.0, 'session_open': 19405.388, 'session_close': 19405.388, 'session_aw': 0.0, 'session_price_settlement': 0.0, 'session_price_limit_min': 0.0, 'session_price_limit_max': 0.0, 'margin_hedged': 1.0, 'price_change': 0.1159, 'price_volatility': 0.0, 'price_theoretical': 0.0, 'price_greeks_delta': 0.0, 'price_greeks_theta': 0.0, 'price_greeks_gamma': 0.0, 'price_greeks_vega': 0.0, 'price_greeks_rho': 0.0, 'price_greeks_omega': 0.0, 'price_sensitivity': 0.0, 'basis': '', 'category': '', 'currency_base': 'BTC', 'currency_profit': 'USD', 'currency_margin': 'BTC', 'bank': '', 'description': 'BitCoin vs US Dollar', 'exchange': '', 'formula': '', 'isin': '', 'name': 'BTCUSD', 'page': '', 'path': 'Crypto-Currency\\\\Crypto Majors\\\\BTCUSD'}\n"
     ]
    }
   ],
   "source": [
    "print(MetaTrader5.symbol_info('BTCUSD')._asdict())"
   ]
  },
  {
   "cell_type": "code",
   "execution_count": 42,
   "metadata": {},
   "outputs": [
    {
     "data": {
      "text/plain": [
       "()"
      ]
     },
     "execution_count": 42,
     "metadata": {},
     "output_type": "execute_result"
    }
   ],
   "source": [
    "#N~ao ta funcionando apropriadamente, depois vejo isso aqui \n",
    "MetaTrader5.market_book_get('BTCUSD')\n",
    "\n",
    "\n",
    "\n"
   ]
  },
  {
   "cell_type": "code",
   "execution_count": 52,
   "metadata": {},
   "outputs": [
    {
     "data": {
      "text/html": [
       "<div>\n",
       "<style scoped>\n",
       "    .dataframe tbody tr th:only-of-type {\n",
       "        vertical-align: middle;\n",
       "    }\n",
       "\n",
       "    .dataframe tbody tr th {\n",
       "        vertical-align: top;\n",
       "    }\n",
       "\n",
       "    .dataframe thead th {\n",
       "        text-align: right;\n",
       "    }\n",
       "</style>\n",
       "<table border=\"1\" class=\"dataframe\">\n",
       "  <thead>\n",
       "    <tr style=\"text-align: right;\">\n",
       "      <th></th>\n",
       "      <th>time</th>\n",
       "      <th>open</th>\n",
       "      <th>high</th>\n",
       "      <th>low</th>\n",
       "      <th>close</th>\n",
       "      <th>tick_volume</th>\n",
       "      <th>spread</th>\n",
       "      <th>real_volume</th>\n",
       "    </tr>\n",
       "  </thead>\n",
       "  <tbody>\n",
       "    <tr>\n",
       "      <th>0</th>\n",
       "      <td>1651374000</td>\n",
       "      <td>37797.248</td>\n",
       "      <td>37827.648</td>\n",
       "      <td>37782.337</td>\n",
       "      <td>37823.248</td>\n",
       "      <td>230</td>\n",
       "      <td>2804</td>\n",
       "      <td>0</td>\n",
       "    </tr>\n",
       "    <tr>\n",
       "      <th>1</th>\n",
       "      <td>1651374300</td>\n",
       "      <td>37823.248</td>\n",
       "      <td>37898.548</td>\n",
       "      <td>37814.424</td>\n",
       "      <td>37874.783</td>\n",
       "      <td>186</td>\n",
       "      <td>2804</td>\n",
       "      <td>0</td>\n",
       "    </tr>\n",
       "    <tr>\n",
       "      <th>2</th>\n",
       "      <td>1651374600</td>\n",
       "      <td>37874.541</td>\n",
       "      <td>37907.448</td>\n",
       "      <td>37871.848</td>\n",
       "      <td>37906.548</td>\n",
       "      <td>165</td>\n",
       "      <td>2804</td>\n",
       "      <td>0</td>\n",
       "    </tr>\n",
       "    <tr>\n",
       "      <th>3</th>\n",
       "      <td>1651374900</td>\n",
       "      <td>37901.124</td>\n",
       "      <td>37901.348</td>\n",
       "      <td>37849.348</td>\n",
       "      <td>37894.648</td>\n",
       "      <td>198</td>\n",
       "      <td>2804</td>\n",
       "      <td>0</td>\n",
       "    </tr>\n",
       "    <tr>\n",
       "      <th>4</th>\n",
       "      <td>1651375200</td>\n",
       "      <td>37895.848</td>\n",
       "      <td>37996.448</td>\n",
       "      <td>37892.048</td>\n",
       "      <td>37993.448</td>\n",
       "      <td>218</td>\n",
       "      <td>2804</td>\n",
       "      <td>0</td>\n",
       "    </tr>\n",
       "    <tr>\n",
       "      <th>...</th>\n",
       "      <td>...</td>\n",
       "      <td>...</td>\n",
       "      <td>...</td>\n",
       "      <td>...</td>\n",
       "      <td>...</td>\n",
       "      <td>...</td>\n",
       "      <td>...</td>\n",
       "      <td>...</td>\n",
       "    </tr>\n",
       "    <tr>\n",
       "      <th>8916</th>\n",
       "      <td>1654051200</td>\n",
       "      <td>31794.988</td>\n",
       "      <td>31834.188</td>\n",
       "      <td>31764.288</td>\n",
       "      <td>31817.088</td>\n",
       "      <td>235</td>\n",
       "      <td>3924</td>\n",
       "      <td>0</td>\n",
       "    </tr>\n",
       "    <tr>\n",
       "      <th>8917</th>\n",
       "      <td>1654051500</td>\n",
       "      <td>31817.088</td>\n",
       "      <td>31825.888</td>\n",
       "      <td>31749.930</td>\n",
       "      <td>31754.388</td>\n",
       "      <td>247</td>\n",
       "      <td>3924</td>\n",
       "      <td>0</td>\n",
       "    </tr>\n",
       "    <tr>\n",
       "      <th>8918</th>\n",
       "      <td>1654051800</td>\n",
       "      <td>31755.888</td>\n",
       "      <td>31776.688</td>\n",
       "      <td>31713.955</td>\n",
       "      <td>31748.088</td>\n",
       "      <td>261</td>\n",
       "      <td>3924</td>\n",
       "      <td>0</td>\n",
       "    </tr>\n",
       "    <tr>\n",
       "      <th>8919</th>\n",
       "      <td>1654052100</td>\n",
       "      <td>31748.088</td>\n",
       "      <td>31825.988</td>\n",
       "      <td>31748.088</td>\n",
       "      <td>31792.399</td>\n",
       "      <td>231</td>\n",
       "      <td>3924</td>\n",
       "      <td>0</td>\n",
       "    </tr>\n",
       "    <tr>\n",
       "      <th>8920</th>\n",
       "      <td>1654052400</td>\n",
       "      <td>31792.188</td>\n",
       "      <td>31797.019</td>\n",
       "      <td>31757.688</td>\n",
       "      <td>31758.088</td>\n",
       "      <td>208</td>\n",
       "      <td>3924</td>\n",
       "      <td>0</td>\n",
       "    </tr>\n",
       "  </tbody>\n",
       "</table>\n",
       "<p>8921 rows × 8 columns</p>\n",
       "</div>"
      ],
      "text/plain": [
       "            time       open       high        low      close  tick_volume  \\\n",
       "0     1651374000  37797.248  37827.648  37782.337  37823.248          230   \n",
       "1     1651374300  37823.248  37898.548  37814.424  37874.783          186   \n",
       "2     1651374600  37874.541  37907.448  37871.848  37906.548          165   \n",
       "3     1651374900  37901.124  37901.348  37849.348  37894.648          198   \n",
       "4     1651375200  37895.848  37996.448  37892.048  37993.448          218   \n",
       "...          ...        ...        ...        ...        ...          ...   \n",
       "8916  1654051200  31794.988  31834.188  31764.288  31817.088          235   \n",
       "8917  1654051500  31817.088  31825.888  31749.930  31754.388          247   \n",
       "8918  1654051800  31755.888  31776.688  31713.955  31748.088          261   \n",
       "8919  1654052100  31748.088  31825.988  31748.088  31792.399          231   \n",
       "8920  1654052400  31792.188  31797.019  31757.688  31758.088          208   \n",
       "\n",
       "      spread  real_volume  \n",
       "0       2804            0  \n",
       "1       2804            0  \n",
       "2       2804            0  \n",
       "3       2804            0  \n",
       "4       2804            0  \n",
       "...      ...          ...  \n",
       "8916    3924            0  \n",
       "8917    3924            0  \n",
       "8918    3924            0  \n",
       "8919    3924            0  \n",
       "8920    3924            0  \n",
       "\n",
       "[8921 rows x 8 columns]"
      ]
     },
     "execution_count": 52,
     "metadata": {},
     "output_type": "execute_result"
    }
   ],
   "source": [
    "from datetime import datetime\n",
    "\n",
    "utc_from = datetime(2022, 5, 1)\n",
    "utc_to = datetime(2022, 6, 1)\n",
    "\n",
    "rates = MetaTrader5.copy_rates_range('BTCUSD', MetaTrader5.TIMEFRAME_M5, utc_from, utc_to)\n",
    "\n",
    "df = pd.DataFrame(rates)\n",
    "df"
   ]
  }
 ],
 "metadata": {
  "kernelspec": {
   "display_name": "Python 3.9.12 ('base')",
   "language": "python",
   "name": "python3"
  },
  "language_info": {
   "codemirror_mode": {
    "name": "ipython",
    "version": 3
   },
   "file_extension": ".py",
   "mimetype": "text/x-python",
   "name": "python",
   "nbconvert_exporter": "python",
   "pygments_lexer": "ipython3",
   "version": "3.9.12"
  },
  "orig_nbformat": 4,
  "vscode": {
   "interpreter": {
    "hash": "46f14437f6212115cecb54cdec1fe4c7217130b15a45a6df5ff75e7a4b6010aa"
   }
  }
 },
 "nbformat": 4,
 "nbformat_minor": 2
}
