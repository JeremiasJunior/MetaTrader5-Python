{
 "cells": [
  {
   "cell_type": "code",
   "execution_count": 1,
   "metadata": {},
   "outputs": [],
   "source": [
    "import mt5_data as mt5\n",
    "import pandas as pd\n",
    "import numpy as np\n",
    "\n",
    "import matplotlib.pyplot as plt\n",
    "\n"
   ]
  },
  {
   "attachments": {},
   "cell_type": "markdown",
   "metadata": {},
   "source": [
    "setup"
   ]
  },
  {
   "cell_type": "code",
   "execution_count": 2,
   "metadata": {},
   "outputs": [
    {
     "data": {
      "text/plain": [
       "<mt5_data.MetaTraderData at 0x1fe1de36b20>"
      ]
     },
     "execution_count": 2,
     "metadata": {},
     "output_type": "execute_result"
    }
   ],
   "source": [
    "_login = 10097784\n",
    "_password = 'Ms$12345'\n",
    "_server = 'XPMT5-DEMO'\n",
    "\n",
    "'''  \n",
    "mt5_serve age como uma instancia aberta do metatrader, todos os dados vao ser pegos dessa instancia\n",
    "'''\n",
    "\n",
    "mt5_server = mt5.MetaTraderData(_login = 10097784, _password = 'X69kpeny', _server = 'B2Broker-MetaTrader5')\n",
    "mt5_server"
   ]
  },
  {
   "attachments": {},
   "cell_type": "markdown",
   "metadata": {},
   "source": [
    "current_price"
   ]
  },
  {
   "cell_type": "code",
   "execution_count": 3,
   "metadata": {},
   "outputs": [
    {
     "data": {
      "text/plain": [
       "[24675.238, 24677.662]"
      ]
     },
     "execution_count": 3,
     "metadata": {},
     "output_type": "execute_result"
    }
   ],
   "source": [
    "'''\n",
    "o output ta no format [bid, ask]\n",
    "'''\n",
    "\n",
    "cur_price = mt5_server.current_price('BTCUSD')\n",
    "cur_price"
   ]
  },
  {
   "attachments": {},
   "cell_type": "markdown",
   "metadata": {},
   "source": [
    "historical_data"
   ]
  },
  {
   "cell_type": "code",
   "execution_count": 4,
   "metadata": {},
   "outputs": [
    {
     "data": {
      "text/html": [
       "<div>\n",
       "<style scoped>\n",
       "    .dataframe tbody tr th:only-of-type {\n",
       "        vertical-align: middle;\n",
       "    }\n",
       "\n",
       "    .dataframe tbody tr th {\n",
       "        vertical-align: top;\n",
       "    }\n",
       "\n",
       "    .dataframe thead th {\n",
       "        text-align: right;\n",
       "    }\n",
       "</style>\n",
       "<table border=\"1\" class=\"dataframe\">\n",
       "  <thead>\n",
       "    <tr style=\"text-align: right;\">\n",
       "      <th></th>\n",
       "      <th>time</th>\n",
       "      <th>open</th>\n",
       "      <th>high</th>\n",
       "      <th>low</th>\n",
       "      <th>close</th>\n",
       "      <th>tick_volume</th>\n",
       "      <th>spread</th>\n",
       "      <th>real_volume</th>\n",
       "    </tr>\n",
       "    <tr>\n",
       "      <th>date</th>\n",
       "      <th></th>\n",
       "      <th></th>\n",
       "      <th></th>\n",
       "      <th></th>\n",
       "      <th></th>\n",
       "      <th></th>\n",
       "      <th></th>\n",
       "      <th></th>\n",
       "    </tr>\n",
       "  </thead>\n",
       "  <tbody>\n",
       "    <tr>\n",
       "      <th>2022-12-01 00:00:00</th>\n",
       "      <td>1669820400</td>\n",
       "      <td>77.38013</td>\n",
       "      <td>77.70434</td>\n",
       "      <td>77.20413</td>\n",
       "      <td>77.25769</td>\n",
       "      <td>2558</td>\n",
       "      <td>15000</td>\n",
       "      <td>0</td>\n",
       "    </tr>\n",
       "    <tr>\n",
       "      <th>2022-12-01 00:30:00</th>\n",
       "      <td>1669822200</td>\n",
       "      <td>77.25773</td>\n",
       "      <td>77.60000</td>\n",
       "      <td>77.02319</td>\n",
       "      <td>77.52339</td>\n",
       "      <td>2090</td>\n",
       "      <td>15000</td>\n",
       "      <td>0</td>\n",
       "    </tr>\n",
       "    <tr>\n",
       "      <th>2022-12-01 01:00:00</th>\n",
       "      <td>1669824000</td>\n",
       "      <td>77.52205</td>\n",
       "      <td>77.52909</td>\n",
       "      <td>77.13123</td>\n",
       "      <td>77.46365</td>\n",
       "      <td>2422</td>\n",
       "      <td>15000</td>\n",
       "      <td>0</td>\n",
       "    </tr>\n",
       "    <tr>\n",
       "      <th>2022-12-01 01:30:00</th>\n",
       "      <td>1669825800</td>\n",
       "      <td>77.46412</td>\n",
       "      <td>77.82761</td>\n",
       "      <td>77.31312</td>\n",
       "      <td>77.67144</td>\n",
       "      <td>2501</td>\n",
       "      <td>15000</td>\n",
       "      <td>0</td>\n",
       "    </tr>\n",
       "    <tr>\n",
       "      <th>2022-12-01 02:00:00</th>\n",
       "      <td>1669827600</td>\n",
       "      <td>77.67374</td>\n",
       "      <td>77.82230</td>\n",
       "      <td>76.01527</td>\n",
       "      <td>76.99253</td>\n",
       "      <td>2601</td>\n",
       "      <td>15000</td>\n",
       "      <td>0</td>\n",
       "    </tr>\n",
       "    <tr>\n",
       "      <th>...</th>\n",
       "      <td>...</td>\n",
       "      <td>...</td>\n",
       "      <td>...</td>\n",
       "      <td>...</td>\n",
       "      <td>...</td>\n",
       "      <td>...</td>\n",
       "      <td>...</td>\n",
       "      <td>...</td>\n",
       "    </tr>\n",
       "    <tr>\n",
       "      <th>2022-12-29 22:00:00</th>\n",
       "      <td>1672318800</td>\n",
       "      <td>66.66239</td>\n",
       "      <td>66.85000</td>\n",
       "      <td>66.56071</td>\n",
       "      <td>66.71000</td>\n",
       "      <td>1552</td>\n",
       "      <td>15000</td>\n",
       "      <td>0</td>\n",
       "    </tr>\n",
       "    <tr>\n",
       "      <th>2022-12-29 22:30:00</th>\n",
       "      <td>1672320600</td>\n",
       "      <td>66.71000</td>\n",
       "      <td>66.91201</td>\n",
       "      <td>66.51161</td>\n",
       "      <td>66.58000</td>\n",
       "      <td>2014</td>\n",
       "      <td>15000</td>\n",
       "      <td>0</td>\n",
       "    </tr>\n",
       "    <tr>\n",
       "      <th>2022-12-29 23:00:00</th>\n",
       "      <td>1672322400</td>\n",
       "      <td>66.58000</td>\n",
       "      <td>66.99000</td>\n",
       "      <td>66.42000</td>\n",
       "      <td>66.89389</td>\n",
       "      <td>1545</td>\n",
       "      <td>15000</td>\n",
       "      <td>0</td>\n",
       "    </tr>\n",
       "    <tr>\n",
       "      <th>2022-12-29 23:30:00</th>\n",
       "      <td>1672324200</td>\n",
       "      <td>66.89446</td>\n",
       "      <td>67.17000</td>\n",
       "      <td>66.67490</td>\n",
       "      <td>66.84000</td>\n",
       "      <td>2130</td>\n",
       "      <td>15000</td>\n",
       "      <td>0</td>\n",
       "    </tr>\n",
       "    <tr>\n",
       "      <th>2022-12-30 00:00:00</th>\n",
       "      <td>1672326000</td>\n",
       "      <td>66.84000</td>\n",
       "      <td>67.08159</td>\n",
       "      <td>66.76243</td>\n",
       "      <td>66.79082</td>\n",
       "      <td>1980</td>\n",
       "      <td>15000</td>\n",
       "      <td>0</td>\n",
       "    </tr>\n",
       "  </tbody>\n",
       "</table>\n",
       "<p>1393 rows × 8 columns</p>\n",
       "</div>"
      ],
      "text/plain": [
       "                           time      open      high       low     close  \\\n",
       "date                                                                      \n",
       "2022-12-01 00:00:00  1669820400  77.38013  77.70434  77.20413  77.25769   \n",
       "2022-12-01 00:30:00  1669822200  77.25773  77.60000  77.02319  77.52339   \n",
       "2022-12-01 01:00:00  1669824000  77.52205  77.52909  77.13123  77.46365   \n",
       "2022-12-01 01:30:00  1669825800  77.46412  77.82761  77.31312  77.67144   \n",
       "2022-12-01 02:00:00  1669827600  77.67374  77.82230  76.01527  76.99253   \n",
       "...                         ...       ...       ...       ...       ...   \n",
       "2022-12-29 22:00:00  1672318800  66.66239  66.85000  66.56071  66.71000   \n",
       "2022-12-29 22:30:00  1672320600  66.71000  66.91201  66.51161  66.58000   \n",
       "2022-12-29 23:00:00  1672322400  66.58000  66.99000  66.42000  66.89389   \n",
       "2022-12-29 23:30:00  1672324200  66.89446  67.17000  66.67490  66.84000   \n",
       "2022-12-30 00:00:00  1672326000  66.84000  67.08159  66.76243  66.79082   \n",
       "\n",
       "                     tick_volume  spread  real_volume  \n",
       "date                                                   \n",
       "2022-12-01 00:00:00         2558   15000            0  \n",
       "2022-12-01 00:30:00         2090   15000            0  \n",
       "2022-12-01 01:00:00         2422   15000            0  \n",
       "2022-12-01 01:30:00         2501   15000            0  \n",
       "2022-12-01 02:00:00         2601   15000            0  \n",
       "...                          ...     ...          ...  \n",
       "2022-12-29 22:00:00         1552   15000            0  \n",
       "2022-12-29 22:30:00         2014   15000            0  \n",
       "2022-12-29 23:00:00         1545   15000            0  \n",
       "2022-12-29 23:30:00         2130   15000            0  \n",
       "2022-12-30 00:00:00         1980   15000            0  \n",
       "\n",
       "[1393 rows x 8 columns]"
      ]
     },
     "execution_count": 4,
     "metadata": {},
     "output_type": "execute_result"
    }
   ],
   "source": [
    "'''\n",
    "O output é um dataframe com informaçoes sobre o ativo em questao\n",
    "'''\n",
    "\n",
    "hist_data = mt5_server.historical_data(symbol='LTCUSD', from_date='2022-12-01', to_date='2022-12-30', timeframe='M30')\n",
    "hist_data"
   ]
  },
  {
   "cell_type": "code",
   "execution_count": 5,
   "metadata": {},
   "outputs": [
    {
     "data": {
      "text/plain": [
       "[<matplotlib.lines.Line2D at 0x1e54ffa9850>]"
      ]
     },
     "execution_count": 5,
     "metadata": {},
     "output_type": "execute_result"
    },
    {
     "data": {
      "image/png": "[encoded data removed]",
      "text/plain": [
       "<Figure size 432x288 with 1 Axes>"
      ]
     },
     "metadata": {
      "needs_background": "light"
     },
     "output_type": "display_data"
    }
   ],
   "source": [
    "plt.plot(list(hist_data['high']))"
   ]
  },
  {
   "attachments": {},
   "cell_type": "markdown",
   "metadata": {},
   "source": [
    "open_buy"
   ]
  },
  {
   "cell_type": "code",
   "execution_count": 4,
   "metadata": {},
   "outputs": [
    {
     "name": "stdout",
     "output_type": "stream",
     "text": [
      "OrderSendResult(retcode=10009, deal=88853466, order=104805937, volume=1.0, price=99.71671, bid=99.54108, ask=99.71671, comment='Request executed', request_id=89587162, retcode_external=0, request=TradeRequest(action=1, magic=100, order=0, symbol='LTCUSD', volume=1.0, price=99.71671, stoplimit=0.0, sl=0.0, tp=0.0, deviation=20, type=0, type_filling=1, type_time=0, expiration=0, comment='python script open', position=0, position_by=0)) 104805937\n"
     ]
    },
    {
     "data": {
      "text/plain": [
       "[99.71671, 104805937]"
      ]
     },
     "execution_count": 4,
     "metadata": {},
     "output_type": "execute_result"
    }
   ],
   "source": [
    "'''\n",
    "retorna uma tupla: \n",
    "[ask_filled, order_number]\n",
    "\n",
    "\n",
    "ask_filled: valor executado\n",
    "order_number: id da compra \n",
    "'''\n",
    "\n",
    "open_position = mt5_server.open_buy('LTCUSD', vol=1.0)\n",
    "open_position"
   ]
  },
  {
   "attachments": {},
   "cell_type": "markdown",
   "metadata": {},
   "source": [
    "open_sell"
   ]
  },
  {
   "cell_type": "code",
   "execution_count": 5,
   "metadata": {},
   "outputs": [
    {
     "name": "stdout",
     "output_type": "stream",
     "text": [
      "OrderSendResult(retcode=10009, deal=88853467, order=104805938, volume=1.0, price=99.56369, bid=99.56369, ask=99.72708, comment='Request executed', request_id=89587163, retcode_external=0, request=TradeRequest(action=1, magic=100, order=0, symbol='LTCUSD', volume=1.0, price=99.56369, stoplimit=0.0, sl=0.0, tp=0.0, deviation=20, type=1, type_filling=1, type_time=0, expiration=0, comment='python script open', position=0, position_by=0)) 104805938\n"
     ]
    },
    {
     "data": {
      "text/plain": [
       "[99.56369, 104805938]"
      ]
     },
     "execution_count": 5,
     "metadata": {},
     "output_type": "execute_result"
    }
   ],
   "source": [
    "sell_position = mt5_server.open_sell('LTCUSD', vol=1.0)\n",
    "sell_position"
   ]
  },
  {
   "attachments": {},
   "cell_type": "markdown",
   "metadata": {},
   "source": [
    "close_position (Buy)"
   ]
  },
  {
   "cell_type": "code",
   "execution_count": 6,
   "metadata": {},
   "outputs": [
    {
     "name": "stdout",
     "output_type": "stream",
     "text": [
      "OrderSendResult(retcode=10009, deal=88853468, order=104805939, volume=1.0, price=99.71, bid=99.56, ask=99.71, comment='Request executed', request_id=89587164, retcode_external=0, request=TradeRequest(action=1, magic=0, order=0, symbol='LTCUSD', volume=1.0, price=99.56, stoplimit=0.0, sl=0.0, tp=0.0, deviation=20, type=0, type_filling=1, type_time=0, expiration=0, comment='python script open', position=0, position_by=0))\n"
     ]
    },
    {
     "data": {
      "text/plain": [
       "[99.56, 104805939]"
      ]
     },
     "execution_count": 6,
     "metadata": {},
     "output_type": "execute_result"
    }
   ],
   "source": [
    "close_position = mt5_server.close_position('LTCUSD', status=1, vol=1.0)\n",
    "close_position"
   ]
  },
  {
   "attachments": {},
   "cell_type": "markdown",
   "metadata": {},
   "source": [
    "close_position (Sell)"
   ]
  },
  {
   "cell_type": "code",
   "execution_count": null,
   "metadata": {},
   "outputs": [],
   "source": [
    "close_position = mt5_server.close_position('LTCUSD', status=1)\n",
    "close_position"
   ]
  }
 ],
 "metadata": {
  "kernelspec": {
   "display_name": "base",
   "language": "python",
   "name": "python3"
  },
  "language_info": {
   "codemirror_mode": {
    "name": "ipython",
    "version": 3
   },
   "file_extension": ".py",
   "mimetype": "text/x-python",
   "name": "python",
   "nbconvert_exporter": "python",
   "pygments_lexer": "ipython3",
   "version": "3.9.12"
  },
  "orig_nbformat": 4,
  "vscode": {
   "interpreter": {
    "hash": "46f14437f6212115cecb54cdec1fe4c7217130b15a45a6df5ff75e7a4b6010aa"
   }
  }
 },
 "nbformat": 4,
 "nbformat_minor": 2
}
