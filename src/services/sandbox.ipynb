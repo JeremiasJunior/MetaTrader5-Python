{
 "cells": [
  {
   "cell_type": "code",
   "execution_count": null,
   "metadata": {},
   "outputs": [],
   "source": [
    "import mt5_data as mt5\n",
    "import pandas as pd\n",
    "import numpy as np\n",
    "\n"
   ]
  },
  {
   "attachments": {},
   "cell_type": "markdown",
   "metadata": {},
   "source": [
    "setup"
   ]
  },
  {
   "cell_type": "code",
   "execution_count": null,
   "metadata": {},
   "outputs": [],
   "source": [
    "_login = 10084329\n",
    "_password = 'AAee1f9j'\n",
    "_server = 'B2Broker-MetaTrader5'\n",
    "\n",
    "'''  \n",
    "mt5_serve age como uma instancia aberta do metatrader, todos os dados vao ser pegos dessa instancia\n",
    "'''\n",
    "\n",
    "mt5_server = mt5.MetaTraderData(_login = 10084329, _password = 'AAee1f9j', _server = 'B2Broker-MetaTrader5')"
   ]
  },
  {
   "attachments": {},
   "cell_type": "markdown",
   "metadata": {},
   "source": [
    "current_price"
   ]
  },
  {
   "cell_type": "code",
   "execution_count": null,
   "metadata": {},
   "outputs": [],
   "source": [
    "'''\n",
    "o output ta no format [bid, ask]\n",
    "'''\n",
    "\n",
    "cur_price = mt5_server.current_price('BTCUSD')\n",
    "cur_price"
   ]
  },
  {
   "attachments": {},
   "cell_type": "markdown",
   "metadata": {},
   "source": [
    "historical_data"
   ]
  },
  {
   "cell_type": "code",
   "execution_count": null,
   "metadata": {},
   "outputs": [],
   "source": [
    "'''\n",
    "O output é um dataframe com informaçoes sobre o ativo em questao\n",
    "'''\n",
    "\n",
    "hist_data = mt5_server.historical_data(symbol='BTCUSD', from_date='2022-12-01', to_date='2022-12-30', timeframe='M30')\n",
    "hist_data"
   ]
  },
  {
   "cell_type": "code",
   "execution_count": null,
   "metadata": {},
   "outputs": [],
   "source": [
    "hist_data['high'].plot()"
   ]
  },
  {
   "attachments": {},
   "cell_type": "markdown",
   "metadata": {},
   "source": [
    "open_buy"
   ]
  },
  {
   "cell_type": "code",
   "execution_count": null,
   "metadata": {},
   "outputs": [],
   "source": [
    "'''\n",
    "retorna uma tupla: \n",
    "[ask_filled, order_number]\n",
    "\n",
    "\n",
    "ask_filled: valor executado\n",
    "order_number: id da compra \n",
    "'''\n",
    "\n",
    "open_position = mt5_server.open_buy('LTCUSD', vol=1.0)\n",
    "open_position"
   ]
  },
  {
   "attachments": {},
   "cell_type": "markdown",
   "metadata": {},
   "source": [
    "open_sell"
   ]
  },
  {
   "cell_type": "code",
   "execution_count": null,
   "metadata": {},
   "outputs": [],
   "source": [
    "sell_position = mt5_server.open_sell('LTCUSD', vol=1.0)\n",
    "sell_position"
   ]
  },
  {
   "attachments": {},
   "cell_type": "markdown",
   "metadata": {},
   "source": [
    "close_position (Buy)"
   ]
  },
  {
   "cell_type": "code",
   "execution_count": null,
   "metadata": {},
   "outputs": [],
   "source": [
    "close_position = mt5_server.close_position('LTCUSD', status=0)\n",
    "close_position"
   ]
  },
  {
   "attachments": {},
   "cell_type": "markdown",
   "metadata": {},
   "source": [
    "close_position (Sell)"
   ]
  },
  {
   "cell_type": "code",
   "execution_count": null,
   "metadata": {},
   "outputs": [],
   "source": [
    "close_position = mt5_server.close_position('LTCUSD', status=1)\n",
    "close_position"
   ]
  }
 ],
 "metadata": {
  "kernelspec": {
   "display_name": "base",
   "language": "python",
   "name": "python3"
  },
  "language_info": {
   "codemirror_mode": {
    "name": "ipython",
    "version": 3
   },
   "file_extension": ".py",
   "mimetype": "text/x-python",
   "name": "python",
   "nbconvert_exporter": "python",
   "pygments_lexer": "ipython3",
   "version": "3.9.12"
  },
  "orig_nbformat": 4,
  "vscode": {
   "interpreter": {
    "hash": "46f14437f6212115cecb54cdec1fe4c7217130b15a45a6df5ff75e7a4b6010aa"
   }
  }
 },
 "nbformat": 4,
 "nbformat_minor": 2
}
